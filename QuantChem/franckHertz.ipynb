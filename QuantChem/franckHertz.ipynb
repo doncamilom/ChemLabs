{
 "cells": [
  {
   "cell_type": "code",
   "execution_count": 26,
   "metadata": {},
   "outputs": [],
   "source": [
    "import matplotlib.pyplot as plt\n",
    "import numpy as np\n",
    "from pandas import read_excel"
   ]
  },
  {
   "cell_type": "code",
   "execution_count": 2,
   "metadata": {},
   "outputs": [],
   "source": [
    "data = read_excel('./Downloads/datosFH.xlsx')\n",
    "data = data.as_matrix()\n",
    "\n",
    "vecs = [] #0:voltage 1; 1: current 1 ; 2: voltage 2 ...\n",
    "for i in range(6):\n",
    "    vecs.append(data[:,i][4:36])"
   ]
  },
  {
   "cell_type": "code",
   "execution_count": 5,
   "metadata": {},
   "outputs": [
    {
     "data": {
      "image/png": "[encoded data removed]",
      "text/plain": [
       "<matplotlib.figure.Figure at 0x7fd9e43b72e8>"
      ]
     },
     "metadata": {},
     "output_type": "display_data"
    }
   ],
   "source": [
    "#Concatenate vectors\n",
    "V = [i for i in np.concatenate((vecs[0],vecs[2],vecs[4]))] \n",
    "I = [i for i in np.concatenate((vecs[1],vecs[3],vecs[5]))]\n",
    "\n",
    "#General sorted list\n",
    "I = [i for _,i in sorted(zip(V,I))] #Sort I with same order as values of sorted V\n",
    "V = sorted(V)\n",
    "\n",
    "limC = 87   #only take the first limC points\n",
    "V = V[:limC]\n",
    "I = I[:limC]\n",
    "\n",
    "#Values for first fit \n",
    "lim = 66\n",
    "I_ = I[:lim]\n",
    "V_ = V[:lim]\n",
    "\n",
    "#first fit\n",
    "degree = 4\n",
    "coefs = np.polyfit(V_,I_,degree)\n",
    "p = np.poly1d(coefs)\n",
    "x=np.linspace(np.amin(V_),np.amax(V_),100)\n",
    "\n",
    "#------------------------------------------------PLOT\n",
    "fig = plt.figure()\n",
    "ax = plt.subplot()\n",
    "linecol = 'royalblue' #color of the fit func.\n",
    "ax.plot(x,p(x),color = linecol)\n",
    "\n",
    "#Find the points where the slope = 0 (maxima in this range)\n",
    "epsilon = 1e-2\n",
    "maxi = 0\n",
    "for i in np.arange(15,17,1e-3):\n",
    "    if (p(i+1e-4)-p(i))/1e-4 < epsilon:\n",
    "        maxi = i\n",
    "        \n",
    "ax.plot(V,I,'k.')\n",
    "#---------------------------\n",
    "#Values for second fit \n",
    "I_1 = I[lim:]\n",
    "V_1 = V[lim:]\n",
    "\n",
    "second_max = np.mean(V_1[:2])\n",
    "\n",
    "#second fit\n",
    "degree = 4\n",
    "coefs = np.polyfit(V_1,I_1,degree)\n",
    "p1 = np.poly1d(coefs)\n",
    "\n",
    "x=np.linspace(np.amin(V_1),np.amax(V_1),100)\n",
    "ax.plot(x,p1(x),color = linecol,label = 'FIT')\n",
    "\n",
    "\n",
    "#CLACULO DE MINIMOS: ----------------------------------------#\n",
    "\n",
    "#Calcula mínimo en primer fit\n",
    "epsilon = 1e-6\n",
    "min0 = 0\n",
    "for i in np.arange(27,30,1e-2):\n",
    "    if (p(i+1e-4)-p(i))/1e-4 < epsilon:\n",
    "        min0 = i\n",
    "    \n",
    "#Calcula mínimo en segundo fit\n",
    "epsilon = 1e-6\n",
    "mini = 0\n",
    "for i in np.arange(32,35,1e-2):\n",
    "    if (p1(i+1e-4)-p1(i))/1e-4 < epsilon:\n",
    "        mini = i\n",
    "        \n",
    "delta_min = mini-min0\n",
    "delta_max = second_max - maxi\n",
    "\n",
    "#plot maxima\n",
    "ax.axvline(x=maxi,linestyle='--',color='k',linewidth=1)\n",
    "ax.axvline(x=second_max,linestyle='--',color='k',linewidth=1,label = 'Máximos')\n",
    "\n",
    "#plot minima\n",
    "ax.axvline(x=min0,linestyle='--',color='tomato',linewidth=1)\n",
    "ax.axvline(x=mini,linestyle='--',color='tomato',linewidth=1,label = 'Mínimos')\n",
    "\n",
    "\n",
    "ax.set_ylabel(r'Corriente $(A*10^{-7})$')\n",
    "ax.set_xlabel('Voltaje (V)')\n",
    "ax.set_title('Experimento Franck-Hertz')\n",
    "\n",
    "plt.grid()\n",
    "plt.legend()\n",
    "plt.savefig('franckHertz.png',dpi=200)\n",
    "plt.show()"
   ]
  },
  {
   "cell_type": "code",
   "execution_count": 6,
   "metadata": {},
   "outputs": [
    {
     "data": {
      "text/plain": [
       "(13.291000000001105, 4.369999999999532)"
      ]
     },
     "execution_count": 6,
     "metadata": {},
     "output_type": "execute_result"
    }
   ],
   "source": [
    "delta_max,delta_min"
   ]
  },
  {
   "cell_type": "code",
   "execution_count": 24,
   "metadata": {},
   "outputs": [],
   "source": [
    "suma = 0\n",
    "for i in range(len(V_1)):\n",
    "    suma += (I_1[i]-p(V_1[i]))**2"
   ]
  },
  {
   "cell_type": "code",
   "execution_count": 25,
   "metadata": {},
   "outputs": [
    {
     "data": {
      "text/plain": [
       "0.9084446182839844"
      ]
     },
     "execution_count": 25,
     "metadata": {},
     "output_type": "execute_result"
    }
   ],
   "source": [
    "np.sqrt(suma/(len(V_)-1))"
   ]
  },
  {
   "cell_type": "code",
   "execution_count": 27,
   "metadata": {},
   "outputs": [
    {
     "data": {
      "text/plain": [
       "28.67000000000026"
      ]
     },
     "execution_count": 27,
     "metadata": {},
     "output_type": "execute_result"
    }
   ],
   "source": [
    "min0"
   ]
  },
  {
   "cell_type": "code",
   "execution_count": 28,
   "metadata": {},
   "outputs": [
    {
     "data": {
      "text/plain": [
       "33.03999999999979"
      ]
     },
     "execution_count": 28,
     "metadata": {},
     "output_type": "execute_result"
    }
   ],
   "source": [
    "mini"
   ]
  },
  {
   "cell_type": "code",
   "execution_count": null,
   "metadata": {},
   "outputs": [],
   "source": []
  }
 ],
 "metadata": {
  "kernelspec": {
   "display_name": "Python 3",
   "language": "python",
   "name": "python3"
  },
  "language_info": {
   "codemirror_mode": {
    "name": "ipython",
    "version": 3
   },
   "file_extension": ".py",
   "mimetype": "text/x-python",
   "name": "python",
   "nbconvert_exporter": "python",
   "pygments_lexer": "ipython3",
   "version": "3.6.4"
  }
 },
 "nbformat": 4,
 "nbformat_minor": 2
}
